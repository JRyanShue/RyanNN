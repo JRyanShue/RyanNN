{
 "cells": [
  {
   "cell_type": "code",
   "execution_count": 7,
   "id": "7daaf53d",
   "metadata": {},
   "outputs": [
    {
     "name": "stdout",
     "output_type": "stream",
     "text": [
      "0.3094282108391191\n",
      "0.0012971712833677598\n",
      "0.0004985684122237376\n",
      "0.0002989966378754076\n",
      "0.00021086693201375508\n",
      "0.00016178890332060923\n",
      "0.00013071302915001836\n",
      "0.00010935489499789853\n",
      "9.381490661457155e-05\n",
      "8.202385554130685e-05\n"
     ]
    }
   ],
   "source": [
    "\n",
    "import numpy as np\n",
    "\n",
    "# Define sigmoid\n",
    "def sigmoid(x, deriv=False):\n",
    "    if(deriv==True):\n",
    "        # Derivative of Sigmoid. X is the sigmoid function itself.\n",
    "        return x*(1-x)\n",
    "    return 1/(1+np.exp(-x))\n",
    "\n",
    "\n",
    "x = np.array([\n",
    "    [1, 0, 0, 1],\n",
    "    [1, 1, 0, 1],\n",
    "    [1, 0, 1, 1],\n",
    "    [0, 1, 0, 1]\n",
    "])\n",
    "\n",
    "y = np.array([\n",
    "    [1],\n",
    "    [1],\n",
    "    [0],\n",
    "    [0]\n",
    "])\n",
    "\n",
    "class NeuralNetwork:\n",
    "    def __init__(self, x, y):\n",
    "        self.input      = x\n",
    "        self.weights1   = np.random.rand(self.input.shape[1],4) \n",
    "        self.weights2   = np.random.rand(4,1)                 \n",
    "        self.y          = y\n",
    "        self.output     = np.zeros(self.y.shape)\n",
    "\n",
    "    def feedforward(self):\n",
    "        self.layer1 = sigmoid(np.dot(self.input, self.weights1))\n",
    "        self.output = sigmoid(np.dot(self.layer1, self.weights2))\n",
    "\n",
    "    def backprop(self):\n",
    "        self.error = (self.y - self.output) ** 2\n",
    "        \n",
    "        # application of the chain rule to find derivative of the loss function with respect to weights2 and weights1\n",
    "        d_weights2 = np.dot(self.layer1.T, (2*(self.y - self.output) * sigmoid(self.output, True)))\n",
    "        d_weights1 = np.dot(self.input.T,  (np.dot(2*(self.y - self.output) * sigmoid(self.output, True), self.weights2.T) * sigmoid(self.layer1, True)))        \n",
    "        \n",
    "        # update the weights with the derivative (slope) of the loss function\n",
    "        self.weights1 += d_weights1\n",
    "        self.weights2 += d_weights2\n",
    "        \n",
    "TestNN = NeuralNetwork(x, y)\n",
    "\n",
    "EPOCHS = 2000\n",
    "for i in range(EPOCHS):\n",
    "    \n",
    "    TestNN.feedforward()\n",
    "    TestNN.backprop()\n",
    "    \n",
    "    if i % 200 == 0:\n",
    "        print(np.mean(TestNN.error))\n",
    "    "
   ]
  },
  {
   "cell_type": "code",
   "execution_count": null,
   "id": "0aef7748",
   "metadata": {},
   "outputs": [],
   "source": []
  }
 ],
 "metadata": {
  "kernelspec": {
   "display_name": "Python 3 (ipykernel)",
   "language": "python",
   "name": "python3"
  },
  "language_info": {
   "codemirror_mode": {
    "name": "ipython",
    "version": 3
   },
   "file_extension": ".py",
   "mimetype": "text/x-python",
   "name": "python",
   "nbconvert_exporter": "python",
   "pygments_lexer": "ipython3",
   "version": "3.9.7"
  }
 },
 "nbformat": 4,
 "nbformat_minor": 5
}
