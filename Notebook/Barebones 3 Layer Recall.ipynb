{
 "cells": [
  {
   "cell_type": "code",
   "execution_count": 12,
   "id": "b4c9a131",
   "metadata": {},
   "outputs": [
    {
     "name": "stdout",
     "output_type": "stream",
     "text": [
      "Error:0.4964100319027255\n",
      "Error:0.024100331782672454\n",
      "Error:0.014989371383758006\n",
      "Error:0.011632678090062791\n",
      "Error:0.00978619559085451\n",
      "[[ 4.06042771  3.77082949 -6.07912135 -3.91610434]\n",
      " [-1.93040092 -5.51443521 -6.38988281 -3.20582466]\n",
      " [ 0.58045944 -1.83622119  2.41599928  5.24917117]]\n",
      "[[-6.01608689]\n",
      " [ 6.37578506]\n",
      " [-9.6324098 ]\n",
      " [ 6.90846291]]\n"
     ]
    }
   ],
   "source": [
    "import numpy as np\n",
    "\n",
    "# Define Sigmoid\n",
    "def sigmoid(x, deriv=False):\n",
    "    if(deriv==True):\n",
    "        # Derivative of Sigmoid, using the Chain Rule. X is the sigmoid function itself.\n",
    "        return x*(1-x)\n",
    "    return 1/(1+np.exp(-x))\n",
    "\n",
    "# Dataset\n",
    "x = np.array([[0,0,1],\n",
    "              [0,1,1],\n",
    "              [1,0,1],\n",
    "              [1,1,1]])\n",
    "y = np.array([[0],\n",
    "              [1],\n",
    "              [1],\n",
    "              [0]])\n",
    "\n",
    "# Seed\n",
    "np.random.seed(1)\n",
    "\n",
    "# 3 Layer 16 param NN\n",
    "\n",
    "# Initialize weights\n",
    "syn0 = 2 * np.random.random((3,4)) - 1  # 3 rows of 4 params\n",
    "syn1 = 2 * np.random.random((4,1)) - 1  # 4 rows of 1 param\n",
    "\n",
    "EPOCHS = 10000\n",
    "\n",
    "# Train\n",
    "for i in range(EPOCHS):\n",
    "    \n",
    "    # Feed forward\n",
    "    l0 = x  # Input layer 4x3\n",
    "    l1 = sigmoid(np.dot(l0,syn0))  # Hidden layer matrix multiplication: 4x3 * 3x4 = 4x4\n",
    "    l2 = sigmoid(np.dot(l1,syn1))  # Output layer: 4x4 * 4x1 = 4x1\n",
    "\n",
    "    l2_error = y - l2  # Difference error\n",
    "    l2_delta = l2_error * sigmoid(l2,True)  # Output's derivative on Sigmoid -> Confidence: NOT DOT-PRODUCT 4x1 * 4x1 = 4x1\n",
    "\n",
    "    if (i% (EPOCHS/5)) == 0:\n",
    "        print('Error:' + str(np.mean(np.abs(l2_error))))\n",
    "    \n",
    "    # Update weights\n",
    "    syn1 += np.dot(l1.T,l2_delta)  # Direct update based on each input's \"role\" in the answer (their value)\n",
    "\n",
    "    # Backpropogation (update weights for next layer)\n",
    "    l1_error = np.dot(l2_delta,syn1.T)  # Use weights to determine how layer 2's error should be factored into the 0th synapse\n",
    "    l1_delta = l1_error * sigmoid(l1,True)\n",
    "    syn0 += np.dot(l0.T,l1_delta)\n",
    "    \n",
    "    \n",
    "\n",
    "print(syn0)\n",
    "print(syn1)"
   ]
  },
  {
   "cell_type": "code",
   "execution_count": null,
   "id": "51c15bb6",
   "metadata": {},
   "outputs": [],
   "source": []
  }
 ],
 "metadata": {
  "kernelspec": {
   "display_name": "Python 3 (ipykernel)",
   "language": "python",
   "name": "python3"
  },
  "language_info": {
   "codemirror_mode": {
    "name": "ipython",
    "version": 3
   },
   "file_extension": ".py",
   "mimetype": "text/x-python",
   "name": "python",
   "nbconvert_exporter": "python",
   "pygments_lexer": "ipython3",
   "version": "3.9.7"
  }
 },
 "nbformat": 4,
 "nbformat_minor": 5
}
